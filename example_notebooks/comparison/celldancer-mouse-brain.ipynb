{
 "cells": [
  {
   "cell_type": "code",
   "execution_count": 1,
   "id": "ef6393cb-d09b-46a1-81cf-aa7d5d654b5f",
   "metadata": {
    "tags": []
   },
   "outputs": [],
   "source": [
    "import celldancer as cd\n",
    "import anndata\n",
    "import pandas as pd\n",
    "import numpy as np\n",
    "import scipy as sp\n",
    "import os"
   ]
  },
  {
   "cell_type": "code",
   "execution_count": 2,
   "id": "1ac26729-ab08-4acc-8480-b4259ed0d5e6",
   "metadata": {
    "tags": []
   },
   "outputs": [],
   "source": [
    "adata = anndata.read_h5ad('../data/mouse_brain.h5ad')"
   ]
  },
  {
   "cell_type": "code",
   "execution_count": 3,
   "id": "6729c182-6e01-4149-bc2f-ae57f05343cd",
   "metadata": {
    "tags": []
   },
   "outputs": [
    {
     "data": {
      "text/plain": [
       "AnnData object with n_obs × n_vars = 4628 × 117\n",
       "    obs: 'n_counts', 'Region', 'Subclass', 'leiden', 'velocity_self_transition'\n",
       "    var: 'GeneName', 'mean', 'std', 'velocity_gamma', 'velocity_qreg_ratio', 'velocity_r2', 'velocity_genes'\n",
       "    uns: 'leiden', 'leiden_colors', 'neighbors', 'pca', 'umap', 'velocity_graph', 'velocity_graph_neg', 'velocity_params'\n",
       "    obsm: 'X_pca', 'X_xy_loc', 'velocity_xy_loc', 'xy_loc'\n",
       "    varm: 'PCs'\n",
       "    layers: 'Ms', 'Mu', 'spliced', 'unspliced', 'variance_velocity', 'velocity'\n",
       "    obsp: 'connectivities', 'distances'"
      ]
     },
     "execution_count": 3,
     "metadata": {},
     "output_type": "execute_result"
    }
   ],
   "source": [
    "adata"
   ]
  },
  {
   "cell_type": "code",
   "execution_count": 4,
   "id": "de4954bf-56d3-4436-a5f1-5a07a9b408d0",
   "metadata": {
    "tags": []
   },
   "outputs": [
    {
     "name": "stderr",
     "output_type": "stream",
     "text": [
      "100%|█████████████████████████████████████████| 117/117 [00:02<00:00, 43.62it/s]\n"
     ]
    }
   ],
   "source": [
    "df = cd.adata_to_df_with_embed(adata,\n",
    "                               cell_type_para='Region',\n",
    "                               embed_para='X_xy_loc')"
   ]
  },
  {
   "cell_type": "code",
   "execution_count": 5,
   "id": "4f59f929-30fc-4116-b345-c65a0db0680a",
   "metadata": {
    "tags": []
   },
   "outputs": [
    {
     "name": "stdout",
     "output_type": "stream",
     "text": [
      "Using /Users/cliffzhou/Documents/GitHub/scTT/example_notebooks/cellDancer_velocity_2023-07-22 23-35-32 as the output path.\n",
      "Arranging genes for parallel job.\n",
      "117  genes were arranged to  15  portions.\n"
     ]
    },
    {
     "name": "stderr",
     "output_type": "stream",
     "text": [
      "\n",
      "Velocity Estimation:   0%|          | 0/15 [00:00<?, ?it/s]                     \u001b[A\n",
      "Velocity Estimation:   7%|▋         | 1/15 [00:18<04:20, 18.61s/it]             \u001b[A\n",
      "Velocity Estimation:  13%|█▎        | 2/15 [00:26<02:38, 12.22s/it]             \u001b[A\n",
      "Velocity Estimation:  20%|██        | 3/15 [00:31<01:45,  8.77s/it]             \u001b[A\n",
      "Velocity Estimation:  27%|██▋       | 4/15 [00:35<01:18,  7.17s/it]             \u001b[A\n",
      "Velocity Estimation:  33%|███▎      | 5/15 [00:41<01:05,  6.53s/it]             \u001b[A\n",
      "Velocity Estimation:  40%|████      | 6/15 [00:49<01:03,  7.04s/it]             \u001b[A\n",
      "Velocity Estimation:  47%|████▋     | 7/15 [00:53<00:50,  6.30s/it]             \u001b[A\n",
      "Velocity Estimation:  53%|█████▎    | 8/15 [00:59<00:41,  5.91s/it]             \u001b[A\n",
      "Velocity Estimation:  60%|██████    | 9/15 [01:04<00:35,  5.90s/it]             \u001b[A\n",
      "Velocity Estimation:  67%|██████▋   | 10/15 [01:09<00:28,  5.61s/it]            \u001b[A\n",
      "Velocity Estimation:  73%|███████▎  | 11/15 [01:15<00:22,  5.69s/it]            \u001b[A\n",
      "Velocity Estimation:  80%|████████  | 12/15 [01:23<00:18,  6.28s/it]            \u001b[A\n",
      "Velocity Estimation:  87%|████████▋ | 13/15 [01:29<00:12,  6.23s/it]            \u001b[A\n",
      "Velocity Estimation:  93%|█████████▎| 14/15 [01:35<00:06,  6.21s/it]            \u001b[A\n",
      "Velocity Estimation: 100%|██████████| 15/15 [01:39<00:00,  5.40s/it]            \u001b[A\n",
      "                                                                                \u001b[ANot predicted gene list:['Fgf3', 'Fzd10', 'Fzd8', 'Hoxb2', 'Mafb', 'Olig3', 'Pou3f1']. Try visualizing the unspliced and spliced columns of the gene(s) to check the quality.\n"
     ]
    }
   ],
   "source": [
    "df_loss , df = cd.velocity(df)"
   ]
  },
  {
   "cell_type": "code",
   "execution_count": 6,
   "id": "dd280f1b-03e5-4d0d-9b4a-cd60de4879d7",
   "metadata": {
    "tags": []
   },
   "outputs": [
    {
     "data": {
      "text/html": [
       "<div>\n",
       "<style scoped>\n",
       "    .dataframe tbody tr th:only-of-type {\n",
       "        vertical-align: middle;\n",
       "    }\n",
       "\n",
       "    .dataframe tbody tr th {\n",
       "        vertical-align: top;\n",
       "    }\n",
       "\n",
       "    .dataframe thead th {\n",
       "        text-align: right;\n",
       "    }\n",
       "</style>\n",
       "<table border=\"1\" class=\"dataframe\">\n",
       "  <thead>\n",
       "    <tr style=\"text-align: right;\">\n",
       "      <th></th>\n",
       "      <th>cellIndex</th>\n",
       "      <th>gene_name</th>\n",
       "      <th>unsplice</th>\n",
       "      <th>splice</th>\n",
       "      <th>unsplice_predict</th>\n",
       "      <th>splice_predict</th>\n",
       "      <th>alpha</th>\n",
       "      <th>beta</th>\n",
       "      <th>gamma</th>\n",
       "      <th>loss</th>\n",
       "      <th>cellID</th>\n",
       "      <th>clusters</th>\n",
       "      <th>embedding1</th>\n",
       "      <th>embedding2</th>\n",
       "    </tr>\n",
       "  </thead>\n",
       "  <tbody>\n",
       "    <tr>\n",
       "      <th>0</th>\n",
       "      <td>0</td>\n",
       "      <td>Hoxb1</td>\n",
       "      <td>0.000000</td>\n",
       "      <td>0.000000</td>\n",
       "      <td>10.897029</td>\n",
       "      <td>0.000000</td>\n",
       "      <td>1.247404</td>\n",
       "      <td>11.13904</td>\n",
       "      <td>12.403588</td>\n",
       "      <td>0.295515</td>\n",
       "      <td>1009</td>\n",
       "      <td>Forebrain</td>\n",
       "      <td>106.5</td>\n",
       "      <td>121.5</td>\n",
       "    </tr>\n",
       "    <tr>\n",
       "      <th>1</th>\n",
       "      <td>1</td>\n",
       "      <td>Hoxb1</td>\n",
       "      <td>0.000000</td>\n",
       "      <td>0.000000</td>\n",
       "      <td>10.897029</td>\n",
       "      <td>0.000000</td>\n",
       "      <td>1.247404</td>\n",
       "      <td>11.13904</td>\n",
       "      <td>12.403588</td>\n",
       "      <td>0.295515</td>\n",
       "      <td>1010</td>\n",
       "      <td>Forebrain</td>\n",
       "      <td>107.5</td>\n",
       "      <td>121.5</td>\n",
       "    </tr>\n",
       "    <tr>\n",
       "      <th>2</th>\n",
       "      <td>2</td>\n",
       "      <td>Hoxb1</td>\n",
       "      <td>0.000000</td>\n",
       "      <td>0.000000</td>\n",
       "      <td>10.897029</td>\n",
       "      <td>0.000000</td>\n",
       "      <td>1.247404</td>\n",
       "      <td>11.13904</td>\n",
       "      <td>12.403588</td>\n",
       "      <td>0.295515</td>\n",
       "      <td>1011</td>\n",
       "      <td>Forebrain</td>\n",
       "      <td>108.5</td>\n",
       "      <td>121.5</td>\n",
       "    </tr>\n",
       "    <tr>\n",
       "      <th>3</th>\n",
       "      <td>3</td>\n",
       "      <td>Hoxb1</td>\n",
       "      <td>0.000000</td>\n",
       "      <td>0.906981</td>\n",
       "      <td>10.874463</td>\n",
       "      <td>0.902404</td>\n",
       "      <td>1.244821</td>\n",
       "      <td>11.14041</td>\n",
       "      <td>12.405129</td>\n",
       "      <td>0.295515</td>\n",
       "      <td>1012</td>\n",
       "      <td>Forebrain</td>\n",
       "      <td>111.5</td>\n",
       "      <td>121.5</td>\n",
       "    </tr>\n",
       "    <tr>\n",
       "      <th>4</th>\n",
       "      <td>4</td>\n",
       "      <td>Hoxb1</td>\n",
       "      <td>0.000000</td>\n",
       "      <td>0.000000</td>\n",
       "      <td>10.897029</td>\n",
       "      <td>0.000000</td>\n",
       "      <td>1.247404</td>\n",
       "      <td>11.13904</td>\n",
       "      <td>12.403588</td>\n",
       "      <td>0.295515</td>\n",
       "      <td>1013</td>\n",
       "      <td>Forebrain</td>\n",
       "      <td>112.5</td>\n",
       "      <td>121.5</td>\n",
       "    </tr>\n",
       "    <tr>\n",
       "      <th>...</th>\n",
       "      <td>...</td>\n",
       "      <td>...</td>\n",
       "      <td>...</td>\n",
       "      <td>...</td>\n",
       "      <td>...</td>\n",
       "      <td>...</td>\n",
       "      <td>...</td>\n",
       "      <td>...</td>\n",
       "      <td>...</td>\n",
       "      <td>...</td>\n",
       "      <td>...</td>\n",
       "      <td>...</td>\n",
       "      <td>...</td>\n",
       "      <td>...</td>\n",
       "    </tr>\n",
       "    <tr>\n",
       "      <th>509075</th>\n",
       "      <td>4623</td>\n",
       "      <td>Cnpy1</td>\n",
       "      <td>3.210938</td>\n",
       "      <td>6.850010</td>\n",
       "      <td>30132.460000</td>\n",
       "      <td>7.229386</td>\n",
       "      <td>159.255370</td>\n",
       "      <td>202.33473</td>\n",
       "      <td>217.518340</td>\n",
       "      <td>0.125999</td>\n",
       "      <td>935</td>\n",
       "      <td>Forebrain</td>\n",
       "      <td>125.5</td>\n",
       "      <td>120.5</td>\n",
       "    </tr>\n",
       "    <tr>\n",
       "      <th>509076</th>\n",
       "      <td>4624</td>\n",
       "      <td>Cnpy1</td>\n",
       "      <td>2.837795</td>\n",
       "      <td>7.965861</td>\n",
       "      <td>29984.959000</td>\n",
       "      <td>7.987523</td>\n",
       "      <td>158.477190</td>\n",
       "      <td>202.38420</td>\n",
       "      <td>217.548920</td>\n",
       "      <td>0.125999</td>\n",
       "      <td>936</td>\n",
       "      <td>Forebrain</td>\n",
       "      <td>126.5</td>\n",
       "      <td>120.5</td>\n",
       "    </tr>\n",
       "    <tr>\n",
       "      <th>509077</th>\n",
       "      <td>4625</td>\n",
       "      <td>Cnpy1</td>\n",
       "      <td>1.366751</td>\n",
       "      <td>0.701493</td>\n",
       "      <td>30031.660000</td>\n",
       "      <td>1.226319</td>\n",
       "      <td>158.729740</td>\n",
       "      <td>202.31267</td>\n",
       "      <td>217.472380</td>\n",
       "      <td>0.125999</td>\n",
       "      <td>937</td>\n",
       "      <td>Forebrain</td>\n",
       "      <td>127.5</td>\n",
       "      <td>120.5</td>\n",
       "    </tr>\n",
       "    <tr>\n",
       "      <th>509078</th>\n",
       "      <td>4626</td>\n",
       "      <td>Cnpy1</td>\n",
       "      <td>0.000000</td>\n",
       "      <td>0.000000</td>\n",
       "      <td>29750.957000</td>\n",
       "      <td>0.000000</td>\n",
       "      <td>157.251340</td>\n",
       "      <td>202.38425</td>\n",
       "      <td>217.503280</td>\n",
       "      <td>0.125999</td>\n",
       "      <td>938</td>\n",
       "      <td>Forebrain</td>\n",
       "      <td>128.5</td>\n",
       "      <td>120.5</td>\n",
       "    </tr>\n",
       "    <tr>\n",
       "      <th>509079</th>\n",
       "      <td>4627</td>\n",
       "      <td>Cnpy1</td>\n",
       "      <td>22.697200</td>\n",
       "      <td>51.071340</td>\n",
       "      <td>32412.617000</td>\n",
       "      <td>53.303776</td>\n",
       "      <td>171.231860</td>\n",
       "      <td>202.16222</td>\n",
       "      <td>217.653380</td>\n",
       "      <td>0.125999</td>\n",
       "      <td>939</td>\n",
       "      <td>Hindbrain</td>\n",
       "      <td>129.5</td>\n",
       "      <td>120.5</td>\n",
       "    </tr>\n",
       "  </tbody>\n",
       "</table>\n",
       "<p>509080 rows × 14 columns</p>\n",
       "</div>"
      ],
      "text/plain": [
       "        cellIndex gene_name   unsplice     splice  unsplice_predict  \\\n",
       "0               0     Hoxb1   0.000000   0.000000         10.897029   \n",
       "1               1     Hoxb1   0.000000   0.000000         10.897029   \n",
       "2               2     Hoxb1   0.000000   0.000000         10.897029   \n",
       "3               3     Hoxb1   0.000000   0.906981         10.874463   \n",
       "4               4     Hoxb1   0.000000   0.000000         10.897029   \n",
       "...           ...       ...        ...        ...               ...   \n",
       "509075       4623     Cnpy1   3.210938   6.850010      30132.460000   \n",
       "509076       4624     Cnpy1   2.837795   7.965861      29984.959000   \n",
       "509077       4625     Cnpy1   1.366751   0.701493      30031.660000   \n",
       "509078       4626     Cnpy1   0.000000   0.000000      29750.957000   \n",
       "509079       4627     Cnpy1  22.697200  51.071340      32412.617000   \n",
       "\n",
       "        splice_predict       alpha       beta       gamma      loss cellID  \\\n",
       "0             0.000000    1.247404   11.13904   12.403588  0.295515   1009   \n",
       "1             0.000000    1.247404   11.13904   12.403588  0.295515   1010   \n",
       "2             0.000000    1.247404   11.13904   12.403588  0.295515   1011   \n",
       "3             0.902404    1.244821   11.14041   12.405129  0.295515   1012   \n",
       "4             0.000000    1.247404   11.13904   12.403588  0.295515   1013   \n",
       "...                ...         ...        ...         ...       ...    ...   \n",
       "509075        7.229386  159.255370  202.33473  217.518340  0.125999    935   \n",
       "509076        7.987523  158.477190  202.38420  217.548920  0.125999    936   \n",
       "509077        1.226319  158.729740  202.31267  217.472380  0.125999    937   \n",
       "509078        0.000000  157.251340  202.38425  217.503280  0.125999    938   \n",
       "509079       53.303776  171.231860  202.16222  217.653380  0.125999    939   \n",
       "\n",
       "         clusters  embedding1  embedding2  \n",
       "0       Forebrain       106.5       121.5  \n",
       "1       Forebrain       107.5       121.5  \n",
       "2       Forebrain       108.5       121.5  \n",
       "3       Forebrain       111.5       121.5  \n",
       "4       Forebrain       112.5       121.5  \n",
       "...           ...         ...         ...  \n",
       "509075  Forebrain       125.5       120.5  \n",
       "509076  Forebrain       126.5       120.5  \n",
       "509077  Forebrain       127.5       120.5  \n",
       "509078  Forebrain       128.5       120.5  \n",
       "509079  Hindbrain       129.5       120.5  \n",
       "\n",
       "[509080 rows x 14 columns]"
      ]
     },
     "execution_count": 6,
     "metadata": {},
     "output_type": "execute_result"
    }
   ],
   "source": [
    "df"
   ]
  },
  {
   "cell_type": "code",
   "execution_count": 7,
   "id": "795a5e11-3b6c-4cf5-b5be-13f739388bf9",
   "metadata": {
    "tags": []
   },
   "outputs": [],
   "source": [
    "df = cd.compute_cell_velocity(df)"
   ]
  },
  {
   "cell_type": "code",
   "execution_count": 8,
   "id": "e468c2a4-2e90-4f75-b249-dc8242144ae2",
   "metadata": {
    "tags": []
   },
   "outputs": [
    {
     "data": {
      "text/plain": [
       "0         Forebrain\n",
       "1         Forebrain\n",
       "2         Forebrain\n",
       "3         Forebrain\n",
       "4         Forebrain\n",
       "            ...    \n",
       "509075    Forebrain\n",
       "509076    Forebrain\n",
       "509077    Forebrain\n",
       "509078    Forebrain\n",
       "509079    Hindbrain\n",
       "Name: clusters, Length: 509080, dtype: category\n",
       "Categories (3, object): ['Forebrain', 'Hindbrain', 'Midbrain']"
      ]
     },
     "execution_count": 8,
     "metadata": {},
     "output_type": "execute_result"
    }
   ],
   "source": [
    "df.clusters"
   ]
  },
  {
   "cell_type": "code",
   "execution_count": 1,
   "id": "5f4cb9e7-485c-4240-83d0-ea9c2f4c7ea5",
   "metadata": {
    "tags": []
   },
   "outputs": [
    {
     "ename": "NameError",
     "evalue": "name 'cd' is not defined",
     "output_type": "error",
     "traceback": [
      "\u001b[0;31m---------------------------------------------------------------------------\u001b[0m",
      "\u001b[0;31mNameError\u001b[0m                                 Traceback (most recent call last)",
      "\u001b[0;32m/var/folders/8b/jwc2kdrd7w5fxptnqycjqfpc0000gn/T/ipykernel_71777/792920440.py\u001b[0m in \u001b[0;36m<module>\u001b[0;34m\u001b[0m\n\u001b[1;32m      2\u001b[0m \u001b[0;34m\u001b[0m\u001b[0m\n\u001b[1;32m      3\u001b[0m \u001b[0mfig\u001b[0m\u001b[0;34m,\u001b[0m \u001b[0max\u001b[0m \u001b[0;34m=\u001b[0m \u001b[0mplt\u001b[0m\u001b[0;34m.\u001b[0m\u001b[0msubplots\u001b[0m\u001b[0;34m(\u001b[0m\u001b[0mfigsize\u001b[0m \u001b[0;34m=\u001b[0m \u001b[0;34m(\u001b[0m\u001b[0;36m10\u001b[0m\u001b[0;34m,\u001b[0m\u001b[0;36m10\u001b[0m\u001b[0;34m)\u001b[0m\u001b[0;34m)\u001b[0m\u001b[0;34m\u001b[0m\u001b[0;34m\u001b[0m\u001b[0m\n\u001b[0;32m----> 4\u001b[0;31m im = cd.cdplt.scatter_cell(ax,\n\u001b[0m\u001b[1;32m      5\u001b[0m                         \u001b[0mdf\u001b[0m\u001b[0;34m,\u001b[0m\u001b[0;34m\u001b[0m\u001b[0;34m\u001b[0m\u001b[0m\n\u001b[1;32m      6\u001b[0m                         \u001b[0mcolors\u001b[0m\u001b[0;34m=\u001b[0m\u001b[0;34m[\u001b[0m\u001b[0;34m'Forebrain'\u001b[0m\u001b[0;34m,\u001b[0m \u001b[0;34m'Hindbrain'\u001b[0m\u001b[0;34m,\u001b[0m \u001b[0;34m'Midbrain'\u001b[0m\u001b[0;34m]\u001b[0m\u001b[0;34m,\u001b[0m\u001b[0;34m\u001b[0m\u001b[0;34m\u001b[0m\u001b[0m\n",
      "\u001b[0;31mNameError\u001b[0m: name 'cd' is not defined"
     ]
    },
    {
     "data": {
      "image/png": "[encoded data removed]",
      "text/plain": [
       "<Figure size 1000x1000 with 1 Axes>"
      ]
     },
     "metadata": {},
     "output_type": "display_data"
    }
   ],
   "source": [
    "import matplotlib.pyplot as plt\n",
    "\n",
    "fig, ax = plt.subplots(figsize = (10,10))\n",
    "im = cd.cdplt.scatter_cell(ax,\n",
    "                        df, \n",
    "                        colors=['Forebrain', 'Hindbrain', 'Midbrain'], \n",
    "                        alpha=0.2, \n",
    "                        s=70,\n",
    "                        velocity=True,\n",
    "                        legend = 'on',\n",
    "                        min_mass = 2,\n",
    "                        arrow_grid = (20,20))\n",
    "ax.axis('off')\n",
    "plt.show()"
   ]
  },
  {
   "cell_type": "code",
   "execution_count": 56,
   "id": "75507d5a-c335-4269-b568-8c34fa65c8f7",
   "metadata": {},
   "outputs": [
    {
     "name": "stdout",
     "output_type": "stream",
     "text": [
      "|-----> setting visualization default mode in dynamo. Your customized matplotlib settings might be overritten.\n"
     ]
    },
    {
     "ename": "ModuleNotFoundError",
     "evalue": "No module named 'igraph'",
     "output_type": "error",
     "traceback": [
      "\u001b[0;31m---------------------------------------------------------------------------\u001b[0m",
      "\u001b[0;31mModuleNotFoundError\u001b[0m                       Traceback (most recent call last)",
      "\u001b[0;32m/var/folders/8b/jwc2kdrd7w5fxptnqycjqfpc0000gn/T/ipykernel_61191/1793617662.py\u001b[0m in \u001b[0;36m<module>\u001b[0;34m\u001b[0m\n\u001b[0;32m----> 1\u001b[0;31m \u001b[0;32mimport\u001b[0m \u001b[0mdynamo\u001b[0m \u001b[0;32mas\u001b[0m \u001b[0mdyn\u001b[0m\u001b[0;34m\u001b[0m\u001b[0;34m\u001b[0m\u001b[0m\n\u001b[0m",
      "\u001b[0;32m~/.local/lib/python3.7/site-packages/dynamo/__init__.py\u001b[0m in \u001b[0;36m<module>\u001b[0;34m\u001b[0m\n\u001b[1;32m     11\u001b[0m \u001b[0;31m# __version__ = get_dynamo_version()\u001b[0m\u001b[0;34m\u001b[0m\u001b[0;34m\u001b[0m\u001b[0;34m\u001b[0m\u001b[0m\n\u001b[1;32m     12\u001b[0m \u001b[0;34m\u001b[0m\u001b[0m\n\u001b[0;32m---> 13\u001b[0;31m \u001b[0;32mfrom\u001b[0m \u001b[0;34m.\u001b[0m \u001b[0;32mimport\u001b[0m \u001b[0mpp\u001b[0m\u001b[0;34m\u001b[0m\u001b[0;34m\u001b[0m\u001b[0m\n\u001b[0m\u001b[1;32m     14\u001b[0m \u001b[0;32mfrom\u001b[0m \u001b[0;34m.\u001b[0m \u001b[0;32mimport\u001b[0m \u001b[0mest\u001b[0m\u001b[0;34m\u001b[0m\u001b[0;34m\u001b[0m\u001b[0m\n\u001b[1;32m     15\u001b[0m \u001b[0;32mfrom\u001b[0m \u001b[0;34m.\u001b[0m \u001b[0;32mimport\u001b[0m \u001b[0mtl\u001b[0m\u001b[0;34m\u001b[0m\u001b[0;34m\u001b[0m\u001b[0m\n",
      "\u001b[0;32m~/.local/lib/python3.7/site-packages/dynamo/pp.py\u001b[0m in \u001b[0;36m<module>\u001b[0;34m\u001b[0m\n\u001b[1;32m      2\u001b[0m \"\"\"\n\u001b[1;32m      3\u001b[0m \u001b[0;34m\u001b[0m\u001b[0m\n\u001b[0;32m----> 4\u001b[0;31m \u001b[0;32mfrom\u001b[0m \u001b[0;34m.\u001b[0m\u001b[0mpreprocessing\u001b[0m \u001b[0;32mimport\u001b[0m \u001b[0;34m*\u001b[0m\u001b[0;34m\u001b[0m\u001b[0;34m\u001b[0m\u001b[0m\n\u001b[0m",
      "\u001b[0;32m~/.local/lib/python3.7/site-packages/dynamo/preprocessing/__init__.py\u001b[0m in \u001b[0;36m<module>\u001b[0;34m\u001b[0m\n\u001b[1;32m      2\u001b[0m \"\"\"\n\u001b[1;32m      3\u001b[0m \u001b[0;34m\u001b[0m\u001b[0m\n\u001b[0;32m----> 4\u001b[0;31m \u001b[0;32mfrom\u001b[0m \u001b[0;34m.\u001b[0m\u001b[0mcell_cycle\u001b[0m \u001b[0;32mimport\u001b[0m \u001b[0mcell_cycle_scores\u001b[0m\u001b[0;34m\u001b[0m\u001b[0;34m\u001b[0m\u001b[0m\n\u001b[0m\u001b[1;32m      5\u001b[0m \u001b[0;32mfrom\u001b[0m \u001b[0;34m.\u001b[0m\u001b[0mdynast\u001b[0m \u001b[0;32mimport\u001b[0m \u001b[0mlambda_correction\u001b[0m\u001b[0;34m\u001b[0m\u001b[0;34m\u001b[0m\u001b[0m\n\u001b[1;32m      6\u001b[0m from .preprocess import (\n",
      "\u001b[0;32m~/.local/lib/python3.7/site-packages/dynamo/preprocessing/cell_cycle.py\u001b[0m in \u001b[0;36m<module>\u001b[0;34m\u001b[0m\n\u001b[1;32m     10\u001b[0m \u001b[0;32mfrom\u001b[0m \u001b[0mscipy\u001b[0m\u001b[0;34m.\u001b[0m\u001b[0msparse\u001b[0m \u001b[0;32mimport\u001b[0m \u001b[0missparse\u001b[0m\u001b[0;34m\u001b[0m\u001b[0;34m\u001b[0m\u001b[0m\n\u001b[1;32m     11\u001b[0m \u001b[0;34m\u001b[0m\u001b[0m\n\u001b[0;32m---> 12\u001b[0;31m \u001b[0;32mfrom\u001b[0m \u001b[0;34m.\u001b[0m\u001b[0;34m.\u001b[0m\u001b[0mtools\u001b[0m\u001b[0;34m.\u001b[0m\u001b[0mutils\u001b[0m \u001b[0;32mimport\u001b[0m \u001b[0meinsum_correlation\u001b[0m\u001b[0;34m,\u001b[0m \u001b[0mlog1p_\u001b[0m\u001b[0;34m\u001b[0m\u001b[0;34m\u001b[0m\u001b[0m\n\u001b[0m\u001b[1;32m     13\u001b[0m \u001b[0;32mfrom\u001b[0m \u001b[0;34m.\u001b[0m\u001b[0;34m.\u001b[0m\u001b[0mutils\u001b[0m \u001b[0;32mimport\u001b[0m \u001b[0mLoggerManager\u001b[0m\u001b[0;34m,\u001b[0m \u001b[0mcopy_adata\u001b[0m\u001b[0;34m\u001b[0m\u001b[0;34m\u001b[0m\u001b[0m\n\u001b[1;32m     14\u001b[0m \u001b[0;34m\u001b[0m\u001b[0m\n",
      "\u001b[0;32m~/.local/lib/python3.7/site-packages/dynamo/tools/__init__.py\u001b[0m in \u001b[0;36m<module>\u001b[0;34m\u001b[0m\n\u001b[1;32m     77\u001b[0m \u001b[0;32mfrom\u001b[0m \u001b[0;34m.\u001b[0m\u001b[0mmetric_velocity\u001b[0m \u001b[0;32mimport\u001b[0m \u001b[0mcell_wise_confidence\u001b[0m\u001b[0;34m,\u001b[0m \u001b[0mgene_wise_confidence\u001b[0m\u001b[0;34m\u001b[0m\u001b[0;34m\u001b[0m\u001b[0m\n\u001b[1;32m     78\u001b[0m \u001b[0;32mfrom\u001b[0m \u001b[0;34m.\u001b[0m\u001b[0mmoments\u001b[0m \u001b[0;32mimport\u001b[0m \u001b[0mcalc_1nd_moment\u001b[0m\u001b[0;34m,\u001b[0m \u001b[0mcalc_2nd_moment\u001b[0m\u001b[0;34m,\u001b[0m \u001b[0mmoments\u001b[0m\u001b[0;34m\u001b[0m\u001b[0;34m\u001b[0m\u001b[0m\n\u001b[0;32m---> 79\u001b[0;31m \u001b[0;32mfrom\u001b[0m \u001b[0;34m.\u001b[0m\u001b[0mpseudotime_velocity\u001b[0m \u001b[0;32mimport\u001b[0m \u001b[0mpseudotime_velocity\u001b[0m\u001b[0;34m\u001b[0m\u001b[0;34m\u001b[0m\u001b[0m\n\u001b[0m\u001b[1;32m     80\u001b[0m \u001b[0;32mfrom\u001b[0m \u001b[0;34m.\u001b[0m\u001b[0mpsl_py\u001b[0m \u001b[0;32mimport\u001b[0m \u001b[0mpsl\u001b[0m\u001b[0;34m\u001b[0m\u001b[0;34m\u001b[0m\u001b[0m\n\u001b[1;32m     81\u001b[0m \u001b[0;34m\u001b[0m\u001b[0m\n",
      "\u001b[0;32m~/.local/lib/python3.7/site-packages/dynamo/tools/pseudotime_velocity.py\u001b[0m in \u001b[0;36m<module>\u001b[0;34m\u001b[0m\n\u001b[1;32m      5\u001b[0m \u001b[0;32mfrom\u001b[0m \u001b[0;34m.\u001b[0m\u001b[0;34m.\u001b[0m\u001b[0mdynamo_logger\u001b[0m \u001b[0;32mimport\u001b[0m \u001b[0mLoggerManager\u001b[0m\u001b[0;34m\u001b[0m\u001b[0;34m\u001b[0m\u001b[0m\n\u001b[1;32m      6\u001b[0m \u001b[0;32mfrom\u001b[0m \u001b[0;34m.\u001b[0m\u001b[0mconnectivity\u001b[0m \u001b[0;32mimport\u001b[0m \u001b[0madj_to_knn\u001b[0m\u001b[0;34m,\u001b[0m \u001b[0mknn_to_adj\u001b[0m\u001b[0;34m\u001b[0m\u001b[0;34m\u001b[0m\u001b[0m\n\u001b[0;32m----> 7\u001b[0;31m \u001b[0;32mfrom\u001b[0m \u001b[0;34m.\u001b[0m\u001b[0mgraph_operators\u001b[0m \u001b[0;32mimport\u001b[0m \u001b[0mbuild_graph\u001b[0m\u001b[0;34m,\u001b[0m \u001b[0mgradop\u001b[0m\u001b[0;34m\u001b[0m\u001b[0;34m\u001b[0m\u001b[0m\n\u001b[0m\u001b[1;32m      8\u001b[0m \u001b[0;32mfrom\u001b[0m \u001b[0;34m.\u001b[0m\u001b[0mutils\u001b[0m \u001b[0;32mimport\u001b[0m \u001b[0mprojection_with_transition_matrix\u001b[0m\u001b[0;34m\u001b[0m\u001b[0;34m\u001b[0m\u001b[0m\n\u001b[1;32m      9\u001b[0m \u001b[0;34m\u001b[0m\u001b[0m\n",
      "\u001b[0;32m~/.local/lib/python3.7/site-packages/dynamo/tools/graph_operators.py\u001b[0m in \u001b[0;36m<module>\u001b[0;34m\u001b[0m\n\u001b[1;32m      7\u001b[0m \u001b[0;34m\u001b[0m\u001b[0m\n\u001b[1;32m      8\u001b[0m \u001b[0;32mimport\u001b[0m \u001b[0mnumpy\u001b[0m \u001b[0;32mas\u001b[0m \u001b[0mnp\u001b[0m\u001b[0;34m\u001b[0m\u001b[0;34m\u001b[0m\u001b[0m\n\u001b[0;32m----> 9\u001b[0;31m \u001b[0;32mfrom\u001b[0m \u001b[0migraph\u001b[0m \u001b[0;32mimport\u001b[0m \u001b[0mGraph\u001b[0m\u001b[0;34m\u001b[0m\u001b[0;34m\u001b[0m\u001b[0m\n\u001b[0m\u001b[1;32m     10\u001b[0m \u001b[0;32mfrom\u001b[0m \u001b[0mscipy\u001b[0m\u001b[0;34m.\u001b[0m\u001b[0mlinalg\u001b[0m \u001b[0;32mimport\u001b[0m \u001b[0mqr\u001b[0m\u001b[0;34m\u001b[0m\u001b[0;34m\u001b[0m\u001b[0m\n\u001b[1;32m     11\u001b[0m \u001b[0;32mfrom\u001b[0m \u001b[0mscipy\u001b[0m\u001b[0;34m.\u001b[0m\u001b[0msparse\u001b[0m \u001b[0;32mimport\u001b[0m \u001b[0mcsr_matrix\u001b[0m\u001b[0;34m\u001b[0m\u001b[0;34m\u001b[0m\u001b[0m\n",
      "\u001b[0;31mModuleNotFoundError\u001b[0m: No module named 'igraph'"
     ]
    }
   ],
   "source": []
  },
  {
   "cell_type": "code",
   "execution_count": null,
   "id": "77440e3b-35cb-48e5-a484-484fdbf77da7",
   "metadata": {},
   "outputs": [],
   "source": []
  }
 ],
 "metadata": {
  "kernelspec": {
   "display_name": "Python 3 (ipykernel)",
   "language": "python",
   "name": "python3"
  },
  "language_info": {
   "codemirror_mode": {
    "name": "ipython",
    "version": 3
   },
   "file_extension": ".py",
   "mimetype": "text/x-python",
   "name": "python",
   "nbconvert_exporter": "python",
   "pygments_lexer": "ipython3",
   "version": "3.7.12"
  }
 },
 "nbformat": 4,
 "nbformat_minor": 5
}
