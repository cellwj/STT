{
 "cells": [
  {
   "cell_type": "markdown",
   "metadata": {},
   "source": [
    "# Analysis of Mouse Brain Spatial Data"
   ]
  },
  {
   "cell_type": "code",
   "execution_count": 1,
   "metadata": {},
   "outputs": [
    {
     "name": "stderr",
     "output_type": "stream",
     "text": [
      "/Users/cliffzhou/anaconda3/envs/stt/lib/python3.7/site-packages/pyemma/__init__.py:92: UserWarning: You are not using the latest release of PyEMMA. Latest is 2.5.7, you have 2.5.6.\n",
      "  .format(latest=latest, current=current), category=UserWarning)\n"
     ]
    }
   ],
   "source": [
    "import stt as st\n",
    "import scanpy as sc\n",
    "import anndata\n",
    "import scvelo as scv\n",
    "import gseapy as gp\n",
    "import numpy as np\n",
    "import pandas as pd\n",
    "from scipy.cluster.hierarchy import linkage, fcluster\n",
    "import matplotlib as mpl\n",
    "from adjustText import adjust_text"
   ]
  },
  {
   "cell_type": "markdown",
   "metadata": {},
   "source": [
    "The processed data could be download [here](https://drive.google.com/file/d/1c53v1xo0wPd_2O7Zkfz1SWYsrv6e5bUC/view?usp=drive_link)"
   ]
  },
  {
   "cell_type": "code",
   "execution_count": 2,
   "metadata": {},
   "outputs": [],
   "source": [
    "data_dir = '../data/'\n",
    "adata = sc.read_h5ad(data_dir+'mousebrain_bin60_clustered.h5ad')"
   ]
  },
  {
   "cell_type": "code",
   "execution_count": null,
   "metadata": {},
   "outputs": [],
   "source": [
    "sc.pl.scatter(adata, basis='spatial', color='louvain')"
   ]
  },
  {
   "cell_type": "code",
   "execution_count": null,
   "metadata": {},
   "outputs": [],
   "source": [
    "adata.obs['louvain'].value_counts()"
   ]
  },
  {
   "cell_type": "code",
   "execution_count": 3,
   "metadata": {},
   "outputs": [
    {
     "name": "stderr",
     "output_type": "stream",
     "text": [
      "/Users/cliffzhou/anaconda3/envs/stt/lib/python3.7/site-packages/scanpy/preprocessing/_highly_variable_genes.py:64: UserWarning: `flavor='seurat_v3'` expects raw count data, but non-integers were found.\n",
      "  UserWarning,\n"
     ]
    }
   ],
   "source": [
    "sc.pp.highly_variable_genes(adata, flavor='seurat_v3', n_top_genes=2000)\n",
    "adata.raw = adata\n",
    "adata = adata[:, adata.var.highly_variable]"
   ]
  },
  {
   "cell_type": "code",
   "execution_count": 5,
   "metadata": {},
   "outputs": [
    {
     "name": "stdout",
     "output_type": "stream",
     "text": [
      "WARNING: Did not normalize X as it looks processed already. To enforce normalization, set `enforce=True`.\n",
      "Normalized count data: spliced, unspliced.\n",
      "computing moments based on connectivities\n",
      "    finished (0:00:00) --> added \n",
      "    'Ms' and 'Mu', moments of un/spliced abundances (adata.layers)\n"
     ]
    }
   ],
   "source": [
    "scv.pp.moments(adata)"
   ]
  },
  {
   "cell_type": "code",
   "execution_count": null,
   "metadata": {},
   "outputs": [
    {
     "data": {
      "application/vnd.jupyter.widget-view+json": {
       "model_id": "8745151fba5e40bf941790b08a1a506a",
       "version_major": 2,
       "version_minor": 0
      },
      "text/plain": [
       "  0%|          | 0/7765 [00:00<?, ?cell/s]"
      ]
     },
     "metadata": {},
     "output_type": "display_data"
    },
    {
     "data": {
      "application/vnd.jupyter.widget-view+json": {
       "model_id": "f10d9d66d1964fc58b2ba87af0e76244",
       "version_major": 2,
       "version_minor": 0
      },
      "text/plain": [
       "  0%|          | 0/7765 [00:00<?, ?cell/s]"
      ]
     },
     "metadata": {},
     "output_type": "display_data"
    },
    {
     "name": "stdout",
     "output_type": "stream",
     "text": [
      "WARNING: KNN graph is not symmetric (0:00:00)\n",
      "((0.7 * ((0.5 * <VelocityKernel[softmax_scale=0.19, mode=deterministic, seed=57381, scheme=<DotProductScheme>]>) + (0.5 * <ConnectivityKernel[dnorm=True, key=connectivities]>))) + (0.3 * <ConnectivityKernel[dnorm=True, key=spatial_connectivities]>))\n",
      "WARNING: Computing transition matrix using the default parameters\n",
      "\n",
      "Quantiles for entropy relative difference with last iteration:\n",
      "0.00   NaN\n",
      "0.25   NaN\n",
      "0.50   NaN\n",
      "0.75   NaN\n",
      "1.00   NaN\n",
      "dtype: float64\n",
      "\n",
      "Quantiles for entropy absolute difference with last iteration:\n",
      "0.00    0.046166\n",
      "0.25    1.174451\n",
      "0.50    1.305728\n",
      "0.75    1.379518\n",
      "1.00    1.583753\n",
      "dtype: float64\n",
      "\n",
      "Quantiles for entropy absolute difference with last iteration:\n"
     ]
    },
    {
     "data": {
      "application/vnd.jupyter.widget-view+json": {
       "model_id": "e7512f74b7f74a3c959dde67bd75c102",
       "version_major": 2,
       "version_minor": 0
      },
      "text/plain": [
       "  0%|          | 0/7765 [00:00<?, ?cell/s]"
      ]
     },
     "metadata": {},
     "output_type": "display_data"
    },
    {
     "data": {
      "application/vnd.jupyter.widget-view+json": {
       "model_id": "b2dda1f9f2474c4692d9369a7621f72d",
       "version_major": 2,
       "version_minor": 0
      },
      "text/plain": [
       "  0%|          | 0/7765 [00:00<?, ?cell/s]"
      ]
     },
     "metadata": {},
     "output_type": "display_data"
    },
    {
     "name": "stdout",
     "output_type": "stream",
     "text": [
      "WARNING: KNN graph is not symmetric (0:00:00)\n",
      "((0.7 * ((0.5 * <VelocityKernel[softmax_scale=0.32, mode=deterministic, seed=55466, scheme=<DotProductScheme>]>) + (0.5 * <ConnectivityKernel[dnorm=True, key=connectivities]>))) + (0.3 * <ConnectivityKernel[dnorm=True, key=spatial_connectivities]>))\n",
      "WARNING: Computing transition matrix using the default parameters\n",
      "\n",
      "Quantiles for entropy relative difference with last iteration:\n",
      "0.00    0.000023\n",
      "0.25    0.032062\n",
      "0.50    0.069227\n",
      "0.75    0.135519\n",
      "1.00    8.346438\n",
      "dtype: float64\n",
      "\n",
      "Quantiles for entropy absolute difference with last iteration:\n",
      "0.00    0.000030\n",
      "0.25    0.042152\n",
      "0.50    0.089262\n",
      "0.75    0.162167\n",
      "1.00    0.786642\n",
      "dtype: float64\n",
      "\n",
      "Quantiles for entropy absolute difference with last iteration:\n"
     ]
    },
    {
     "data": {
      "application/vnd.jupyter.widget-view+json": {
       "model_id": "6ad3be7d844e47b48d8908cbc1072837",
       "version_major": 2,
       "version_minor": 0
      },
      "text/plain": [
       "  0%|          | 0/7765 [00:00<?, ?cell/s]"
      ]
     },
     "metadata": {},
     "output_type": "display_data"
    },
    {
     "name": "stderr",
     "output_type": "stream",
     "text": [
      "[0]PETSC ERROR: ------------------------------------------------------------------------\n",
      "[0]PETSC ERROR: Caught signal number 13 Broken Pipe: Likely while reading or writing to a socket\n"
     ]
    },
    {
     "data": {
      "application/vnd.jupyter.widget-view+json": {
       "model_id": "fc3dfb279ac94ec8813b742e361a813a",
       "version_major": 2,
       "version_minor": 0
      },
      "text/plain": [
       "  0%|          | 0/7765 [00:00<?, ?cell/s]"
      ]
     },
     "metadata": {},
     "output_type": "display_data"
    },
    {
     "name": "stdout",
     "output_type": "stream",
     "text": [
      "WARNING: KNN graph is not symmetric (0:00:00)\n",
      "((0.7 * ((0.5 * <VelocityKernel[softmax_scale=0.34, mode=deterministic, seed=13526, scheme=<DotProductScheme>]>) + (0.5 * <ConnectivityKernel[dnorm=True, key=connectivities]>))) + (0.3 * <ConnectivityKernel[dnorm=True, key=spatial_connectivities]>))\n",
      "WARNING: Computing transition matrix using the default parameters\n",
      "\n",
      "Quantiles for entropy relative difference with last iteration:\n",
      "0.00    0.000005\n",
      "0.25    0.043578\n",
      "0.50    0.087912\n",
      "0.75    0.152173\n",
      "1.00    5.097678\n",
      "dtype: float64\n",
      "\n",
      "Quantiles for entropy absolute difference with last iteration:\n",
      "0.00    0.000007\n",
      "0.25    0.055612\n",
      "0.50    0.114057\n",
      "0.75    0.193429\n",
      "1.00    1.007612\n",
      "dtype: float64\n",
      "\n",
      "Quantiles for entropy absolute difference with last iteration:\n"
     ]
    },
    {
     "data": {
      "application/vnd.jupyter.widget-view+json": {
       "model_id": "9f0e336780034fa48b49f931fb08ff0b",
       "version_major": 2,
       "version_minor": 0
      },
      "text/plain": [
       "  0%|          | 0/7765 [00:00<?, ?cell/s]"
      ]
     },
     "metadata": {},
     "output_type": "display_data"
    },
    {
     "data": {
      "application/vnd.jupyter.widget-view+json": {
       "model_id": "90cdabd4605c4a6384689778211ae98a",
       "version_major": 2,
       "version_minor": 0
      },
      "text/plain": [
       "  0%|          | 0/7765 [00:00<?, ?cell/s]"
      ]
     },
     "metadata": {},
     "output_type": "display_data"
    },
    {
     "name": "stdout",
     "output_type": "stream",
     "text": [
      "WARNING: KNN graph is not symmetric (0:00:00)\n",
      "((0.7 * ((0.5 * <VelocityKernel[softmax_scale=0.35, mode=deterministic, seed=17239, scheme=<DotProductScheme>]>) + (0.5 * <ConnectivityKernel[dnorm=True, key=connectivities]>))) + (0.3 * <ConnectivityKernel[dnorm=True, key=spatial_connectivities]>))\n",
      "WARNING: Computing transition matrix using the default parameters\n",
      "\n",
      "Quantiles for entropy relative difference with last iteration:\n",
      "0.00    0.000114\n",
      "0.25    0.063557\n",
      "0.50    0.114363\n",
      "0.75    0.165599\n",
      "1.00    0.420111\n",
      "dtype: float64\n",
      "\n",
      "Quantiles for entropy absolute difference with last iteration:\n",
      "0.00    0.000141\n",
      "0.25    0.080651\n",
      "0.50    0.143556\n",
      "0.75    0.201027\n",
      "1.00    0.488603\n",
      "dtype: float64\n",
      "\n",
      "Quantiles for entropy absolute difference with last iteration:\n"
     ]
    },
    {
     "data": {
      "application/vnd.jupyter.widget-view+json": {
       "model_id": "b9cce36481714794bc4e09d49fb6087d",
       "version_major": 2,
       "version_minor": 0
      },
      "text/plain": [
       "  0%|          | 0/7765 [00:00<?, ?cell/s]"
      ]
     },
     "metadata": {},
     "output_type": "display_data"
    },
    {
     "name": "stderr",
     "output_type": "stream",
     "text": [
      "[0]PETSC ERROR: ------------------------------------------------------------------------\n",
      "[0]PETSC ERROR: "
     ]
    },
    {
     "data": {
      "application/vnd.jupyter.widget-view+json": {
       "model_id": "a915104b95a94de39cf5bf575f4e9c69",
       "version_major": 2,
       "version_minor": 0
      },
      "text/plain": [
       "  0%|          | 0/7765 [00:00<?, ?cell/s]"
      ]
     },
     "metadata": {},
     "output_type": "display_data"
    },
    {
     "name": "stderr",
     "output_type": "stream",
     "text": [
      "[0]PETSC ERROR: ------------------------------------------------------------------------\n"
     ]
    },
    {
     "name": "stdout",
     "output_type": "stream",
     "text": [
      "WARNING: KNN graph is not symmetric (0:00:00)\n",
      "((0.7 * ((0.5 * <VelocityKernel[softmax_scale=0.35, mode=deterministic, seed=43845, scheme=<DotProductScheme>]>) + (0.5 * <ConnectivityKernel[dnorm=True, key=connectivities]>))) + (0.3 * <ConnectivityKernel[dnorm=True, key=spatial_connectivities]>))\n",
      "WARNING: Computing transition matrix using the default parameters\n",
      "\n",
      "Quantiles for entropy relative difference with last iteration:\n",
      "0.00    0.000018\n",
      "0.25    0.068249\n",
      "0.50    0.131410\n",
      "0.75    0.217674\n",
      "1.00    0.662758\n",
      "dtype: float64\n",
      "\n",
      "Quantiles for entropy absolute difference with last iteration:\n",
      "0.00    0.000024\n",
      "0.25    0.089627\n",
      "0.50    0.170195\n",
      "0.75    0.263101\n",
      "1.00    0.586382\n",
      "dtype: float64\n",
      "\n",
      "Quantiles for entropy absolute difference with last iteration:\n"
     ]
    },
    {
     "data": {
      "application/vnd.jupyter.widget-view+json": {
       "model_id": "442964e5ff184942bf209084697ecf2b",
       "version_major": 2,
       "version_minor": 0
      },
      "text/plain": [
       "  0%|          | 0/7765 [00:00<?, ?cell/s]"
      ]
     },
     "metadata": {},
     "output_type": "display_data"
    },
    {
     "name": "stderr",
     "output_type": "stream",
     "text": [
      "[0]PETSC ERROR: ------------------------------------------------------------------------\n",
      "[0]PETSC ERROR: Caught signal number 13 Broken Pipe: Likely while reading or writing to a socket\n"
     ]
    },
    {
     "data": {
      "application/vnd.jupyter.widget-view+json": {
       "model_id": "c6c99160a434465fa0eefd6de0ffa870",
       "version_major": 2,
       "version_minor": 0
      },
      "text/plain": [
       "  0%|          | 0/7765 [00:00<?, ?cell/s]"
      ]
     },
     "metadata": {},
     "output_type": "display_data"
    },
    {
     "name": "stdout",
     "output_type": "stream",
     "text": [
      "WARNING: KNN graph is not symmetric (0:00:00)\n",
      "((0.7 * ((0.5 * <VelocityKernel[softmax_scale=0.35, mode=deterministic, seed=31340, scheme=<DotProductScheme>]>) + (0.5 * <ConnectivityKernel[dnorm=True, key=connectivities]>))) + (0.3 * <ConnectivityKernel[dnorm=True, key=spatial_connectivities]>))\n",
      "WARNING: Computing transition matrix using the default parameters\n",
      "\n",
      "Quantiles for entropy relative difference with last iteration:\n",
      "0.00    0.000004\n",
      "0.25    0.070380\n",
      "0.50    0.108309\n",
      "0.75    0.157201\n",
      "1.00    0.457801\n",
      "dtype: float64\n",
      "\n",
      "Quantiles for entropy absolute difference with last iteration:\n",
      "0.00    0.000006\n",
      "0.25    0.085497\n",
      "0.50    0.134783\n",
      "0.75    0.206556\n",
      "1.00    0.584876\n",
      "dtype: float64\n",
      "\n",
      "Quantiles for entropy absolute difference with last iteration:\n"
     ]
    },
    {
     "data": {
      "application/vnd.jupyter.widget-view+json": {
       "model_id": "0d91de4cf2264e3d89cc383ade6958b6",
       "version_major": 2,
       "version_minor": 0
      },
      "text/plain": [
       "  0%|          | 0/7765 [00:00<?, ?cell/s]"
      ]
     },
     "metadata": {},
     "output_type": "display_data"
    },
    {
     "data": {
      "application/vnd.jupyter.widget-view+json": {
       "model_id": "49b6b57ace864cd889c232a8cf828b47",
       "version_major": 2,
       "version_minor": 0
      },
      "text/plain": [
       "  0%|          | 0/7765 [00:00<?, ?cell/s]"
      ]
     },
     "metadata": {},
     "output_type": "display_data"
    },
    {
     "name": "stdout",
     "output_type": "stream",
     "text": [
      "WARNING: KNN graph is not symmetric (0:00:00)\n",
      "((0.7 * ((0.5 * <VelocityKernel[softmax_scale=0.34, mode=deterministic, seed=2010, scheme=<DotProductScheme>]>) + (0.5 * <ConnectivityKernel[dnorm=True, key=connectivities]>))) + (0.3 * <ConnectivityKernel[dnorm=True, key=spatial_connectivities]>))\n",
      "WARNING: Computing transition matrix using the default parameters\n",
      "\n",
      "Quantiles for entropy relative difference with last iteration:\n",
      "0.00    0.000028\n",
      "0.25    0.040984\n",
      "0.50    0.093291\n",
      "0.75    0.184582\n",
      "1.00    0.613134\n",
      "dtype: float64\n",
      "\n",
      "Quantiles for entropy absolute difference with last iteration:\n",
      "0.00    0.000035\n",
      "0.25    0.047871\n",
      "0.50    0.109773\n",
      "0.75    0.209718\n",
      "1.00    0.466027\n",
      "dtype: float64\n",
      "\n",
      "Quantiles for entropy absolute difference with last iteration:\n"
     ]
    },
    {
     "data": {
      "application/vnd.jupyter.widget-view+json": {
       "model_id": "c503e5c5fb454bc9a0f17884333e7b94",
       "version_major": 2,
       "version_minor": 0
      },
      "text/plain": [
       "  0%|          | 0/7765 [00:00<?, ?cell/s]"
      ]
     },
     "metadata": {},
     "output_type": "display_data"
    },
    {
     "data": {
      "application/vnd.jupyter.widget-view+json": {
       "model_id": "7a2d64add73d4ea1a0d2a9f68f4ee644",
       "version_major": 2,
       "version_minor": 0
      },
      "text/plain": [
       "  0%|          | 0/7765 [00:00<?, ?cell/s]"
      ]
     },
     "metadata": {},
     "output_type": "display_data"
    },
    {
     "name": "stdout",
     "output_type": "stream",
     "text": [
      "WARNING: KNN graph is not symmetric (0:00:00)\n",
      "((0.7 * ((0.5 * <VelocityKernel[softmax_scale=0.35, mode=deterministic, seed=59633, scheme=<DotProductScheme>]>) + (0.5 * <ConnectivityKernel[dnorm=True, key=connectivities]>))) + (0.3 * <ConnectivityKernel[dnorm=True, key=spatial_connectivities]>))\n",
      "WARNING: Computing transition matrix using the default parameters\n",
      "WARNING: Using `21` components would split a block of complex conjugates. Increasing `n_components` to `22`\n",
      "\n",
      "Quantiles for entropy relative difference with last iteration:\n",
      "0.00    0.000019\n",
      "0.25    0.035776\n",
      "0.50    0.078933\n",
      "0.75    0.145098\n",
      "1.00    0.373187\n",
      "dtype: float64\n",
      "\n",
      "Quantiles for entropy absolute difference with last iteration:\n",
      "0.00    0.000024\n",
      "0.25    0.043337\n",
      "0.50    0.098129\n",
      "0.75    0.192627\n",
      "1.00    0.416914\n",
      "dtype: float64\n",
      "\n",
      "Quantiles for entropy absolute difference with last iteration:\n"
     ]
    },
    {
     "data": {
      "application/vnd.jupyter.widget-view+json": {
       "model_id": "36431519d42f4c2baaf18315f8c27fb7",
       "version_major": 2,
       "version_minor": 0
      },
      "text/plain": [
       "  0%|          | 0/7765 [00:00<?, ?cell/s]"
      ]
     },
     "metadata": {},
     "output_type": "display_data"
    },
    {
     "name": "stderr",
     "output_type": "stream",
     "text": [
      "[0]PETSC ERROR: ------------------------------------------------------------------------\n",
      "[0]PETSC ERROR: "
     ]
    },
    {
     "data": {
      "application/vnd.jupyter.widget-view+json": {
       "model_id": "a9d15f43d8754e05a76111087725dd89",
       "version_major": 2,
       "version_minor": 0
      },
      "text/plain": [
       "  0%|          | 0/7765 [00:00<?, ?cell/s]"
      ]
     },
     "metadata": {},
     "output_type": "display_data"
    },
    {
     "name": "stderr",
     "output_type": "stream",
     "text": [
      "[0]PETSC ERROR: "
     ]
    },
    {
     "name": "stdout",
     "output_type": "stream",
     "text": [
      "WARNING: KNN graph is not symmetric (0:00:00)\n",
      "((0.7 * ((0.5 * <VelocityKernel[softmax_scale=0.34, mode=deterministic, seed=42411, scheme=<DotProductScheme>]>) + (0.5 * <ConnectivityKernel[dnorm=True, key=connectivities]>))) + (0.3 * <ConnectivityKernel[dnorm=True, key=spatial_connectivities]>))\n",
      "WARNING: Computing transition matrix using the default parameters\n",
      "\n",
      "Quantiles for entropy relative difference with last iteration:\n",
      "0.00    0.000064\n",
      "0.25    0.034823\n",
      "0.50    0.080836\n",
      "0.75    0.163026\n",
      "1.00    0.619511\n",
      "dtype: float64\n",
      "\n",
      "Quantiles for entropy absolute difference with last iteration:\n",
      "0.00    0.000082\n",
      "0.25    0.041112\n",
      "0.50    0.096104\n",
      "0.75    0.187500\n",
      "1.00    0.433308\n",
      "dtype: float64\n",
      "\n",
      "Quantiles for entropy absolute difference with last iteration:\n"
     ]
    },
    {
     "data": {
      "application/vnd.jupyter.widget-view+json": {
       "model_id": "5379d0a3c11647ad856d82f13ddef18c",
       "version_major": 2,
       "version_minor": 0
      },
      "text/plain": [
       "  0%|          | 0/7765 [00:00<?, ?cell/s]"
      ]
     },
     "metadata": {},
     "output_type": "display_data"
    },
    {
     "data": {
      "application/vnd.jupyter.widget-view+json": {
       "model_id": "f48784f232b44b83a4dcb483c6ed37d0",
       "version_major": 2,
       "version_minor": 0
      },
      "text/plain": [
       "  0%|          | 0/7765 [00:00<?, ?cell/s]"
      ]
     },
     "metadata": {},
     "output_type": "display_data"
    },
    {
     "name": "stdout",
     "output_type": "stream",
     "text": [
      "WARNING: KNN graph is not symmetric (0:00:00)\n",
      "((0.7 * ((0.5 * <VelocityKernel[softmax_scale=0.35, mode=deterministic, seed=10465, scheme=<DotProductScheme>]>) + (0.5 * <ConnectivityKernel[dnorm=True, key=connectivities]>))) + (0.3 * <ConnectivityKernel[dnorm=True, key=spatial_connectivities]>))\n",
      "WARNING: Computing transition matrix using the default parameters\n",
      "WARNING: Using `21` components would split a block of complex conjugates. Increasing `n_components` to `22`\n",
      "\n",
      "Quantiles for entropy relative difference with last iteration:\n",
      "0.00    0.000036\n",
      "0.25    0.034531\n",
      "0.50    0.071203\n",
      "0.75    0.164663\n",
      "1.00    0.626937\n",
      "dtype: float64\n",
      "\n",
      "Quantiles for entropy absolute difference with last iteration:\n",
      "0.00    0.000051\n",
      "0.25    0.046163\n",
      "0.50    0.090944\n",
      "0.75    0.193899\n",
      "1.00    0.504721\n",
      "dtype: float64\n",
      "\n",
      "Quantiles for entropy absolute difference with last iteration:\n"
     ]
    },
    {
     "data": {
      "application/vnd.jupyter.widget-view+json": {
       "model_id": "66185fc34f104e7bae078ae2dcd5672c",
       "version_major": 2,
       "version_minor": 0
      },
      "text/plain": [
       "  0%|          | 0/7765 [00:00<?, ?cell/s]"
      ]
     },
     "metadata": {},
     "output_type": "display_data"
    },
    {
     "data": {
      "application/vnd.jupyter.widget-view+json": {
       "model_id": "3160c2796abf47a0910d6a4119415ffc",
       "version_major": 2,
       "version_minor": 0
      },
      "text/plain": [
       "  0%|          | 0/7765 [00:00<?, ?cell/s]"
      ]
     },
     "metadata": {},
     "output_type": "display_data"
    },
    {
     "name": "stdout",
     "output_type": "stream",
     "text": [
      "WARNING: KNN graph is not symmetric (0:00:00)\n",
      "((0.7 * ((0.5 * <VelocityKernel[softmax_scale=0.35, mode=deterministic, seed=26385, scheme=<DotProductScheme>]>) + (0.5 * <ConnectivityKernel[dnorm=True, key=connectivities]>))) + (0.3 * <ConnectivityKernel[dnorm=True, key=spatial_connectivities]>))\n",
      "WARNING: Computing transition matrix using the default parameters\n"
     ]
    }
   ],
   "source": [
    "adata.obs['attractor']= adata.obs['louvain'].values\n",
    "\n",
    "adata_aggr = st.tl.dynamical_iteration(adata,n_states =5, n_iter = 15, return_aggr_obj=True, weight_connectivities = 0.5,n_components = 21, n_neighbors = 100,thresh_ms_gene = 0.2, use_spatial = True,spa_weight = 0.3, thresh_entropy = 0.05)    \n",
    "\n",
    "sc.pl.embedding(adata, basis=\"spatial\", color=\"attractor\")"
   ]
  },
  {
   "cell_type": "code",
   "execution_count": null,
   "metadata": {},
   "outputs": [],
   "source": [
    "st.pl.plot_top_genes(adata, top_genes = 100, ncols =8, wspace = 1, hspace = 1, figsize = (12,20))"
   ]
  },
  {
   "cell_type": "code",
   "execution_count": null,
   "metadata": {},
   "outputs": [],
   "source": [
    "st.pl.plot_genes_list(adata, genelist = ['Rgs9'], figsize =(10,10) ,ncols =1, wspace = 0.9, hspace = 1)\n",
    "#plt.savefig('./figures/emt_genes.pdf',dpi = 800,bbox_inches = 'tight')"
   ]
  },
  {
   "cell_type": "code",
   "execution_count": null,
   "metadata": {},
   "outputs": [],
   "source": [
    "sc.set_figure_params(dpi=600,fontsize = 12)\n",
    "mpl.rcParams['axes.grid'] = False\n",
    "adata.obsm['X_xy_loc'] = adata.obsm['xy_loc']\n",
    "adata_aggr.obsm['X_xy_loc']=adata.obsm['xy_loc']\n",
    "adata_aggr.obsm['X_xy_loc_aggr']=adata.obsm['xy_loc']\n",
    "adata.obsm['X_xy_loc_aggr']=adata.obsm['xy_loc']\n",
    "\n",
    "st.plot_tensor(adata, adata_aggr, basis = 'xy_loc', list_attractor = [0,1,2],filter_cells = True, member_thresh = 0.1)"
   ]
  },
  {
   "cell_type": "code",
   "execution_count": null,
   "metadata": {},
   "outputs": [],
   "source": [
    "\n",
    "st.plot_tensor(adata, adata_aggr, basis = 'xy_loc', list_attractor = [3,4,5],filter_cells = True, member_thresh = 0.1)"
   ]
  },
  {
   "cell_type": "code",
   "execution_count": null,
   "metadata": {},
   "outputs": [],
   "source": [
    "st.plot_tensor(adata, adata_aggr, basis = 'xy_loc', list_attractor = [6,7],filter_cells = True, member_thresh = 0.1)"
   ]
  },
  {
   "cell_type": "code",
   "execution_count": null,
   "metadata": {},
   "outputs": [],
   "source": [
    "sc.set_figure_params(dpi=600,fontsize = 12)\n",
    "import matplotlib as mpl\n",
    "mpl.rcParams['axes.grid'] = False\n",
    "st.plot_tensor_single(adata, adata_aggr,  basis = 'xy_loc', state = 'joint',attractor = 2,filter_cells = True, member_thresh = 0.1)"
   ]
  },
  {
   "cell_type": "code",
   "execution_count": null,
   "metadata": {},
   "outputs": [],
   "source": [
    "st.plot_tensor_single(adata, adata_aggr,  basis = 'xy_loc', state = 'joint',attractor = 1,filter_cells = True, member_thresh = 0.1)"
   ]
  },
  {
   "cell_type": "code",
   "execution_count": null,
   "metadata": {},
   "outputs": [],
   "source": [
    "st.plot_tensor_single(adata, adata_aggr,  basis = 'umap', state = 'unspliced',attractor = 1,filter_cells = True, member_thresh = 0.2)"
   ]
  },
  {
   "cell_type": "code",
   "execution_count": null,
   "metadata": {},
   "outputs": [],
   "source": [
    "st.plot_tensor_single(adata, adata_aggr,  basis = 'umap', state = 'unspliced',attractor = 2,filter_cells = True, member_thresh = 0.2)"
   ]
  },
  {
   "cell_type": "code",
   "execution_count": null,
   "metadata": {},
   "outputs": [],
   "source": [
    "st.plot_tensor_single(adata, adata_aggr,  basis = 'xy_loc', state = 'joint',attractor = None,filter_cells = True, member_thresh = 0.2)"
   ]
  },
  {
   "cell_type": "code",
   "execution_count": null,
   "metadata": {},
   "outputs": [],
   "source": [
    "st.plot_tensor_single(adata, adata_aggr,  basis = 'xy_loc', state = 'spliced',attractor = None,filter_cells = True, member_thresh = 0.2)"
   ]
  },
  {
   "cell_type": "code",
   "execution_count": null,
   "metadata": {},
   "outputs": [],
   "source": [
    "st.plot_tensor_single(adata, adata_aggr,  basis = 'xy_loc', state = 'unspliced',attractor = None,filter_cells = True, member_thresh = 0.2)"
   ]
  },
  {
   "cell_type": "code",
   "execution_count": null,
   "metadata": {},
   "outputs": [],
   "source": [
    "sc.pl.violin(adata, keys = ['entropy'], groupby='attractor')"
   ]
  },
  {
   "cell_type": "code",
   "execution_count": null,
   "metadata": {},
   "outputs": [],
   "source": [
    "st.construct_landscape(adata, coord_key = 'xy_loc')"
   ]
  },
  {
   "cell_type": "code",
   "execution_count": null,
   "metadata": {},
   "outputs": [],
   "source": [
    "sc.set_figure_params(dpi=600,figsize = (6,6) ,fontsize = 10)\n",
    "st.infer_lineage(adata,si=0,sf=2, method = 'MPPT',flux_fraction=0.6)"
   ]
  },
  {
   "cell_type": "code",
   "execution_count": null,
   "metadata": {},
   "outputs": [],
   "source": [
    "%matplotlib inline\n",
    "sc.set_figure_params(dpi=600,figsize = (4,4) ,fontsize = 10)\n",
    "st.plot_landscape(adata, dim = 3, elev=57, azim = 167,size_point = 8)"
   ]
  },
  {
   "cell_type": "code",
   "execution_count": null,
   "metadata": {},
   "outputs": [],
   "source": [
    "ms_genes = adata.uns['gene_subset']\n",
    "adata.uns['gene_subset'] = [x for x in ms_genes if x.startswith('Wnt')]\n",
    "adata_aggr.uns['gene_subset'] = [x for x in ms_genes if x.startswith('Wnt')]"
   ]
  },
  {
   "cell_type": "code",
   "execution_count": null,
   "metadata": {},
   "outputs": [],
   "source": [
    "st.plot_tensor(adata, adata_aggr, basis = 'xy_loc', list_attractor = [3,4,5],filter_cells = True, member_thresh = 0.1)"
   ]
  },
  {
   "cell_type": "markdown",
   "metadata": {},
   "source": [
    "## Pathway Analysis"
   ]
  },
  {
   "cell_type": "code",
   "execution_count": null,
   "metadata": {},
   "outputs": [],
   "source": [
    "pathway = gp.parser.download_library(name = 'KEGG_2019_Mouse')"
   ]
  },
  {
   "cell_type": "code",
   "execution_count": null,
   "metadata": {},
   "outputs": [],
   "source": [
    "tpm_dict = {}\n",
    "pathway_select = {}\n",
    "temp = []\n",
    "for key in pathway.keys():\n",
    "    gene_list = [x.capitalize() for x in pathway[key]] \n",
    "    gene_select = [x for x in gene_list if x in adata_aggr.var_names]\n",
    "    if len(gene_select)>2 and gene_select not in temp:\n",
    "            scv.tl.velocity_graph(adata, vkey = 'vj', xkey = 'Ms', gene_subset = gene_select ,n_jobs = -1)\n",
    "            tpm_dict[key] = adata.uns['vj_graph'].toarray().reshape(-1)\n",
    "            pathway_select[key] = gene_select\n",
    "            temp.append(gene_select)"
   ]
  },
  {
   "cell_type": "code",
   "execution_count": null,
   "metadata": {},
   "outputs": [],
   "source": [
    "import numpy as np\n",
    "import pandas as pd\n",
    "import umap\n",
    "import matplotlib.pyplot as plt\n",
    "from sklearn.decomposition import PCA\n",
    "\n",
    "# Create a pandas DataFrame from the dictionary\n",
    "arr = np.stack(list(tpm_dict.values()))\n",
    "cor = np.corrcoef(arr)"
   ]
  },
  {
   "cell_type": "code",
   "execution_count": null,
   "metadata": {},
   "outputs": [],
   "source": [
    "pca = PCA(n_components=10)\n",
    "pca_embedding = pca.fit_transform(cor)\n",
    "\n",
    "# Perform UMAP on the PCA embedding\n",
    "umap_reducer = umap.UMAP()\n",
    "umap_embedding = umap_reducer.fit_transform(pca_embedding)"
   ]
  },
  {
   "cell_type": "code",
   "execution_count": null,
   "metadata": {},
   "outputs": [],
   "source": [
    "# Perform hierarchical clustering\n",
    "linked = linkage(cor, method='ward')\n",
    "\n",
    "# Define the distance threshold or desired number of clusters\n",
    "# Here, we'll use a distance threshold of 1.5\n",
    "threshold = 1.5\n",
    "\n",
    "# Get clustering labels as a NumPy array\n",
    "c_labels = fcluster(linked, threshold, criterion='distance')"
   ]
  },
  {
   "cell_type": "code",
   "execution_count": null,
   "metadata": {},
   "outputs": [],
   "source": [
    "\n",
    "# Sample data\n",
    "x = umap_embedding[:, 0]\n",
    "y = umap_embedding[:, 1]\n",
    "labels = tpm_dict.keys()\n",
    "\n",
    "# Create the scatter plot\n",
    "fig, ax = plt.subplots()\n",
    "\n",
    "num_clusters = max(c_labels)\n",
    "cmap = plt.cm.get_cmap('Set2', num_clusters)\n",
    "\n",
    "# Map the labels to colors using the colormap\n",
    "colors = cmap((c_labels - 1) / (num_clusters - 1))\n",
    "\n",
    "# Plot the scatter plot with colors based on the labels\n",
    "sc = plt.scatter(x, y, c=colors)\n",
    "\n",
    "# Remove the square outline\n",
    "for spine in ['top','right']:\n",
    "    ax.spines[spine].set_visible(False)\n",
    "\n",
    "\n",
    "arrow_properties = dict(\n",
    "    arrowstyle='->',  # Simple arrow with a head\n",
    "    color='red',      # Arrow color\n",
    "    linewidth=0.5,    # Arrow line width\n",
    "    alpha=0.8,         # Arrow transparency     \n",
    "    mutation_scale=5 \n",
    ")\n",
    "# Annotate points with labels\n",
    "texts = []\n",
    "for i, txt in enumerate(labels):\n",
    "    texts.append(ax.annotate(txt, (x[i], y[i]), fontsize=8))\n",
    "    \n",
    "# Adjust the annotation positions to avoid overlaps\n",
    "adjust_text(texts,arrowprops=arrow_properties)\n",
    "\n",
    "# Hide axis ticks\n",
    "ax.set_xticks([])\n",
    "ax.set_yticks([])\n",
    "\n",
    "# Hide axis labels (tick labels)\n",
    "plt.xlabel('Embedding 1')\n",
    "plt.ylabel('Embedding 2')\n",
    "\n",
    "# Display the plot\n",
    "plt.show()\n"
   ]
  },
  {
   "cell_type": "code",
   "execution_count": null,
   "metadata": {},
   "outputs": [],
   "source": [
    "subset = pathway_select['TGF-beta signaling pathway']\n",
    "adata.uns['gene_subset'] = subset\n",
    "adata_aggr.uns['gene_subset'] = subset+[x+'_u' for x in subset]\n",
    "st.plot_tensor_single(adata, adata_aggr, basis = 'xy_loc', state= 'joint')"
   ]
  },
  {
   "cell_type": "code",
   "execution_count": null,
   "metadata": {},
   "outputs": [],
   "source": [
    "subset = pathway_select['Wnt signaling pathway']\n",
    "adata.uns['gene_subset'] = subset\n",
    "adata_aggr.uns['gene_subset'] = subset+[x+'_u' for x in subset]\n",
    "st.plot_tensor_single(adata, adata_aggr, basis = 'xy_loc', state= 'joint')"
   ]
  },
  {
   "cell_type": "code",
   "execution_count": null,
   "metadata": {},
   "outputs": [],
   "source": [
    "subset = pathway_select['MAPK signaling pathway']\n",
    "adata.uns['gene_subset'] = subset\n",
    "adata_aggr.uns['gene_subset'] = subset+[x+'_u' for x in subset]\n",
    "st.plot_tensor_single(adata, adata_aggr, basis = 'xy_loc', state= 'joint')"
   ]
  },
  {
   "cell_type": "code",
   "execution_count": null,
   "metadata": {},
   "outputs": [],
   "source": [
    "subset = pathway_select['Hippo signaling pathway']\n",
    "adata.uns['gene_subset'] = subset\n",
    "adata_aggr.uns['gene_subset'] = subset+[x+'_u' for x in subset]\n",
    "st.plot_tensor_single(adata, adata_aggr, basis = 'xy_loc', state= 'joint')"
   ]
  }
 ],
 "metadata": {
  "kernelspec": {
   "display_name": "Python 3 (ipykernel)",
   "language": "python",
   "name": "python3"
  },
  "language_info": {
   "codemirror_mode": {
    "name": "ipython",
    "version": 3
   },
   "file_extension": ".py",
   "mimetype": "text/x-python",
   "name": "python",
   "nbconvert_exporter": "python",
   "pygments_lexer": "ipython3",
   "version": "3.7.3"
  }
 },
 "nbformat": 4,
 "nbformat_minor": 4
}
