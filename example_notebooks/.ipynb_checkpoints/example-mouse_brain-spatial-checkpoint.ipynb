{
 "cells": [
  {
   "cell_type": "markdown",
   "metadata": {},
   "source": [
    "# Analysis of Mouse Brain Spatial Data"
   ]
  },
  {
   "cell_type": "code",
   "execution_count": null,
   "metadata": {},
   "outputs": [],
   "source": [
    "import sctt as st\n",
    "import scanpy as sc\n",
    "import anndata\n",
    "import scvelo as scv\n",
    "import gseapy as gp\n",
    "import numpy as np\n",
    "import pandas as pd\n",
    "from scipy.cluster.hierarchy import linkage, fcluster\n",
    "import matplotlib as mpl\n",
    "from adjustText import adjust_text"
   ]
  },
  {
   "cell_type": "markdown",
   "metadata": {},
   "source": [
    "The processed data could be download [here](https://drive.google.com/file/d/1c53v1xo0wPd_2O7Zkfz1SWYsrv6e5bUC/view?usp=drive_link)"
   ]
  },
  {
   "cell_type": "code",
   "execution_count": null,
   "metadata": {},
   "outputs": [],
   "source": [
    "data_dir = '../data/'\n",
    "adata = sc.read_h5ad(data_dir+'mouse_brain.h5ad')"
   ]
  },
  {
   "cell_type": "code",
   "execution_count": null,
   "metadata": {},
   "outputs": [],
   "source": [
    "adata"
   ]
  },
  {
   "cell_type": "code",
   "execution_count": null,
   "metadata": {},
   "outputs": [],
   "source": [
    "sc.pp.neighbors(adata, use_rep = 'xy_loc',key_added ='spatial')"
   ]
  },
  {
   "cell_type": "code",
   "execution_count": null,
   "metadata": {},
   "outputs": [],
   "source": [
    "sc.tl.leiden(adata,resolution = 0.3)"
   ]
  },
  {
   "cell_type": "code",
   "execution_count": null,
   "metadata": {},
   "outputs": [],
   "source": [
    "sc.pl.scatter(adata, basis='xy_loc', color='leiden')"
   ]
  },
  {
   "cell_type": "code",
   "execution_count": null,
   "metadata": {},
   "outputs": [],
   "source": [
    "adata.obs['leiden'].value_counts()"
   ]
  },
  {
   "cell_type": "code",
   "execution_count": null,
   "metadata": {},
   "outputs": [],
   "source": [
    "U = adata.layers['unspliced']\n",
    "S = adata.layers['spliced']\n",
    "if 'toarray' in dir(U):\n",
    "    U = U.toarray()\n",
    "    S = S.toarray()\n",
    "X_all = np.concatenate((U,S),axis = 1)\n",
    "adata_aggr = anndata.AnnData(X=X_all)\n",
    "sc.tl.pca(adata_aggr, svd_solver='arpack')\n",
    "sc.pp.neighbors(adata_aggr)"
   ]
  },
  {
   "cell_type": "code",
   "execution_count": null,
   "metadata": {},
   "outputs": [],
   "source": [
    "sc.tl.leiden(adata_aggr,resolution = 0.15)\n",
    "leiden = adata_aggr.obs['leiden'].values"
   ]
  },
  {
   "cell_type": "code",
   "execution_count": null,
   "metadata": {},
   "outputs": [],
   "source": [
    "adata_aggr.obsm['xy_loc'] = adata.obsm['xy_loc']\n",
    "sc.pl.embedding(adata_aggr, basis='xy_loc', color='leiden')"
   ]
  },
  {
   "cell_type": "code",
   "execution_count": null,
   "metadata": {},
   "outputs": [],
   "source": [
    "adata_aggr = st.dynamical_iteration(adata,n_states =8, n_iter = 15, return_aggr_obj=True, weight_connectivities = 0.5,n_components = 21, n_neighbors = 100,thresh_ms_gene = 0.2, use_spatial = True,spa_weight =0.1, thresh_entropy = 0.05)"
   ]
  },
  {
   "cell_type": "code",
   "execution_count": null,
   "metadata": {},
   "outputs": [],
   "source": [
    "adata.obs['attractor'] = leiden\n",
    "\n",
    "nrows =1\n",
    "weights = [0.1,0.3,0.5,0.7,0.9]\n",
    "ncols = len(weights)\n",
    "\n",
    "fig, axes = plt.subplots(nrows, ncols, figsize=(14, 4))\n",
    "\n",
    "for i,sw in enumerate(weights):\n",
    "#adata.obsm['X_umap'] = adata_aggr.obsm['X_umap']\n",
    "    adata_aggr = st.dynamical_iteration(adata,n_states =8, n_iter = 15, return_aggr_obj=True, weight_connectivities = 0.5,n_components = 21, n_neighbors = 100,thresh_ms_gene = 0.2, use_spatial = True,spa_weight = sw, thresh_entropy = 0.05)    \n",
    "    ax = axes[i]\n",
    "    sc.pl.embedding(adata, basis=\"xy_loc\", color=\"attractor\",show = False, ax = ax)\n",
    "    ax.set_title('spatial_weight='+str(sw))\n",
    "plt.tight_layout()\n",
    "plt.show()\n",
    "\n",
    "                            "
   ]
  },
  {
   "cell_type": "code",
   "execution_count": null,
   "metadata": {},
   "outputs": [],
   "source": [
    "#adata_aggr.obsm['X_umap'] = adata.obsm['X_umap']\n",
    "adata_aggr = st.dynamical_iteration(adata,n_states =8, n_iter = 15, return_aggr_obj=True, weight_connectivities = 0.5,n_components = 21, n_neighbors = 100,thresh_ms_gene = 0.2, use_spatial = True,spa_weight = 0.3, thresh_entropy = 0.05, stop_cr = 'rel')    \n",
    "\n",
    "adata_aggr.obs['Region'] = adata.obs['Region'].values\n",
    "sc.pl.embedding(adata, basis=\"xy_loc\", color=\"attractor\")"
   ]
  },
  {
   "cell_type": "code",
   "execution_count": null,
   "metadata": {},
   "outputs": [],
   "source": [
    "st.plot_top_genes(adata, top_genes = 100, ncols =8, wspace = 1, hspace = 1, figsize = (12,20))"
   ]
  },
  {
   "cell_type": "code",
   "execution_count": null,
   "metadata": {},
   "outputs": [],
   "source": [
    "st.plot_genes_list(adata, genelist = ['FOXP1','FTL','TGFBI'], figsize =(8,2) ,ncols =3, wspace = 0.9, hspace = 1)\n",
    "#plt.savefig('./figures/emt_genes.pdf',dpi = 800,bbox_inches = 'tight')"
   ]
  },
  {
   "cell_type": "code",
   "execution_count": null,
   "metadata": {},
   "outputs": [],
   "source": [
    "sc.set_figure_params(dpi=600,fontsize = 12)\n",
    "mpl.rcParams['axes.grid'] = False\n",
    "adata.obsm['X_xy_loc'] = adata.obsm['xy_loc']\n",
    "adata_aggr.obsm['X_xy_loc']=adata.obsm['xy_loc']\n",
    "adata_aggr.obsm['X_xy_loc_aggr']=adata.obsm['xy_loc']\n",
    "adata.obsm['X_xy_loc_aggr']=adata.obsm['xy_loc']\n",
    "\n",
    "st.plot_tensor(adata, adata_aggr, basis = 'xy_loc', list_attractor = [0,1,2],filter_cells = True, member_thresh = 0.1)"
   ]
  },
  {
   "cell_type": "code",
   "execution_count": null,
   "metadata": {},
   "outputs": [],
   "source": [
    "\n",
    "st.plot_tensor(adata, adata_aggr, basis = 'xy_loc', list_attractor = [3,4,5],filter_cells = True, member_thresh = 0.1)"
   ]
  },
  {
   "cell_type": "code",
   "execution_count": null,
   "metadata": {},
   "outputs": [],
   "source": [
    "st.plot_tensor(adata, adata_aggr, basis = 'xy_loc', list_attractor = [6,7],filter_cells = True, member_thresh = 0.1)"
   ]
  },
  {
   "cell_type": "code",
   "execution_count": null,
   "metadata": {},
   "outputs": [],
   "source": [
    "sc.set_figure_params(dpi=600,fontsize = 12)\n",
    "import matplotlib as mpl\n",
    "mpl.rcParams['axes.grid'] = False\n",
    "st.plot_tensor_single(adata, adata_aggr,  basis = 'xy_loc', state = 'joint',attractor = 2,filter_cells = True, member_thresh = 0.1)"
   ]
  },
  {
   "cell_type": "code",
   "execution_count": null,
   "metadata": {},
   "outputs": [],
   "source": [
    "st.plot_tensor_single(adata, adata_aggr,  basis = 'xy_loc', state = 'joint',attractor = 1,filter_cells = True, member_thresh = 0.1)"
   ]
  },
  {
   "cell_type": "code",
   "execution_count": null,
   "metadata": {},
   "outputs": [],
   "source": [
    "st.plot_tensor_single(adata, adata_aggr,  basis = 'umap', state = 'unspliced',attractor = 1,filter_cells = True, member_thresh = 0.2)"
   ]
  },
  {
   "cell_type": "code",
   "execution_count": null,
   "metadata": {},
   "outputs": [],
   "source": [
    "st.plot_tensor_single(adata, adata_aggr,  basis = 'umap', state = 'unspliced',attractor = 2,filter_cells = True, member_thresh = 0.2)"
   ]
  },
  {
   "cell_type": "code",
   "execution_count": null,
   "metadata": {},
   "outputs": [],
   "source": [
    "st.plot_tensor_single(adata, adata_aggr,  basis = 'xy_loc', state = 'joint',attractor = None,filter_cells = True, member_thresh = 0.2)"
   ]
  },
  {
   "cell_type": "code",
   "execution_count": null,
   "metadata": {},
   "outputs": [],
   "source": [
    "st.plot_tensor_single(adata, adata_aggr,  basis = 'xy_loc', state = 'spliced',attractor = None,filter_cells = True, member_thresh = 0.2)"
   ]
  },
  {
   "cell_type": "code",
   "execution_count": null,
   "metadata": {},
   "outputs": [],
   "source": [
    "st.plot_tensor_single(adata, adata_aggr,  basis = 'xy_loc', state = 'unspliced',attractor = None,filter_cells = True, member_thresh = 0.2)"
   ]
  },
  {
   "cell_type": "code",
   "execution_count": null,
   "metadata": {},
   "outputs": [],
   "source": [
    "sc.pl.violin(adata, keys = ['entropy'], groupby='attractor')"
   ]
  },
  {
   "cell_type": "code",
   "execution_count": null,
   "metadata": {},
   "outputs": [],
   "source": [
    "st.construct_landscape(adata, coord_key = 'xy_loc')"
   ]
  },
  {
   "cell_type": "code",
   "execution_count": null,
   "metadata": {},
   "outputs": [],
   "source": [
    "sc.set_figure_params(dpi=600,figsize = (6,6) ,fontsize = 10)\n",
    "st.infer_lineage(adata,si=0,sf=2, method = 'MPPT',flux_fraction=0.6)"
   ]
  },
  {
   "cell_type": "code",
   "execution_count": null,
   "metadata": {},
   "outputs": [],
   "source": [
    "%matplotlib inline\n",
    "sc.set_figure_params(dpi=600,figsize = (4,4) ,fontsize = 10)\n",
    "st.plot_landscape(adata, dim = 3, elev=57, azim = 167,size_point = 8)"
   ]
  },
  {
   "cell_type": "code",
   "execution_count": null,
   "metadata": {},
   "outputs": [],
   "source": [
    "ms_genes = adata.uns['gene_subset']\n",
    "adata.uns['gene_subset'] = [x for x in ms_genes if x.startswith('Wnt')]\n",
    "adata_aggr.uns['gene_subset'] = [x for x in ms_genes if x.startswith('Wnt')]"
   ]
  },
  {
   "cell_type": "code",
   "execution_count": null,
   "metadata": {},
   "outputs": [],
   "source": [
    "st.plot_tensor(adata, adata_aggr, basis = 'xy_loc', list_attractor = [3,4,5],filter_cells = True, member_thresh = 0.1)"
   ]
  },
  {
   "cell_type": "markdown",
   "metadata": {},
   "source": [
    "## Pathway Analysis"
   ]
  },
  {
   "cell_type": "code",
   "execution_count": null,
   "metadata": {},
   "outputs": [],
   "source": [
    "pathway = gp.parser.download_library(name = 'KEGG_2019_Mouse')"
   ]
  },
  {
   "cell_type": "code",
   "execution_count": null,
   "metadata": {},
   "outputs": [],
   "source": [
    "tpm_dict = {}\n",
    "pathway_select = {}\n",
    "temp = []\n",
    "for key in pathway.keys():\n",
    "    gene_list = [x.capitalize() for x in pathway[key]] \n",
    "    gene_select = [x for x in gene_list if x in adata_aggr.var_names]\n",
    "    if len(gene_select)>2 and gene_select not in temp:\n",
    "            scv.tl.velocity_graph(adata, vkey = 'vj', xkey = 'Ms', gene_subset = gene_select ,n_jobs = -1)\n",
    "            tpm_dict[key] = adata.uns['vj_graph'].toarray().reshape(-1)\n",
    "            pathway_select[key] = gene_select\n",
    "            temp.append(gene_select)"
   ]
  },
  {
   "cell_type": "code",
   "execution_count": null,
   "metadata": {},
   "outputs": [],
   "source": [
    "import numpy as np\n",
    "import pandas as pd\n",
    "import umap\n",
    "import matplotlib.pyplot as plt\n",
    "from sklearn.decomposition import PCA\n",
    "\n",
    "# Create a pandas DataFrame from the dictionary\n",
    "arr = np.stack(list(tpm_dict.values()))\n",
    "cor = np.corrcoef(arr)"
   ]
  },
  {
   "cell_type": "code",
   "execution_count": null,
   "metadata": {},
   "outputs": [],
   "source": [
    "pca = PCA(n_components=10)\n",
    "pca_embedding = pca.fit_transform(cor)\n",
    "\n",
    "# Perform UMAP on the PCA embedding\n",
    "umap_reducer = umap.UMAP()\n",
    "umap_embedding = umap_reducer.fit_transform(pca_embedding)"
   ]
  },
  {
   "cell_type": "code",
   "execution_count": null,
   "metadata": {},
   "outputs": [],
   "source": [
    "# Perform hierarchical clustering\n",
    "linked = linkage(cor, method='ward')\n",
    "\n",
    "# Define the distance threshold or desired number of clusters\n",
    "# Here, we'll use a distance threshold of 1.5\n",
    "threshold = 1.5\n",
    "\n",
    "# Get clustering labels as a NumPy array\n",
    "c_labels = fcluster(linked, threshold, criterion='distance')"
   ]
  },
  {
   "cell_type": "code",
   "execution_count": null,
   "metadata": {},
   "outputs": [],
   "source": [
    "\n",
    "# Sample data\n",
    "x = umap_embedding[:, 0]\n",
    "y = umap_embedding[:, 1]\n",
    "labels = tpm_dict.keys()\n",
    "\n",
    "# Create the scatter plot\n",
    "fig, ax = plt.subplots()\n",
    "\n",
    "num_clusters = max(c_labels)\n",
    "cmap = plt.cm.get_cmap('Set2', num_clusters)\n",
    "\n",
    "# Map the labels to colors using the colormap\n",
    "colors = cmap((c_labels - 1) / (num_clusters - 1))\n",
    "\n",
    "# Plot the scatter plot with colors based on the labels\n",
    "sc = plt.scatter(x, y, c=colors)\n",
    "\n",
    "# Remove the square outline\n",
    "for spine in ['top','right']:\n",
    "    ax.spines[spine].set_visible(False)\n",
    "\n",
    "\n",
    "arrow_properties = dict(\n",
    "    arrowstyle='->',  # Simple arrow with a head\n",
    "    color='red',      # Arrow color\n",
    "    linewidth=0.5,    # Arrow line width\n",
    "    alpha=0.8,         # Arrow transparency     \n",
    "    mutation_scale=5 \n",
    ")\n",
    "# Annotate points with labels\n",
    "texts = []\n",
    "for i, txt in enumerate(labels):\n",
    "    texts.append(ax.annotate(txt, (x[i], y[i]), fontsize=8))\n",
    "    \n",
    "# Adjust the annotation positions to avoid overlaps\n",
    "adjust_text(texts,arrowprops=arrow_properties)\n",
    "\n",
    "# Hide axis ticks\n",
    "ax.set_xticks([])\n",
    "ax.set_yticks([])\n",
    "\n",
    "# Hide axis labels (tick labels)\n",
    "plt.xlabel('Embedding 1')\n",
    "plt.ylabel('Embedding 2')\n",
    "\n",
    "# Display the plot\n",
    "plt.show()\n"
   ]
  },
  {
   "cell_type": "code",
   "execution_count": null,
   "metadata": {},
   "outputs": [],
   "source": [
    "subset = pathway_select['TGF-beta signaling pathway']\n",
    "adata.uns['gene_subset'] = subset\n",
    "adata_aggr.uns['gene_subset'] = subset+[x+'_u' for x in subset]\n",
    "st.plot_tensor_single(adata, adata_aggr, basis = 'xy_loc', state= 'joint')"
   ]
  },
  {
   "cell_type": "code",
   "execution_count": null,
   "metadata": {},
   "outputs": [],
   "source": [
    "subset = pathway_select['Wnt signaling pathway']\n",
    "adata.uns['gene_subset'] = subset\n",
    "adata_aggr.uns['gene_subset'] = subset+[x+'_u' for x in subset]\n",
    "st.plot_tensor_single(adata, adata_aggr, basis = 'xy_loc', state= 'joint')"
   ]
  },
  {
   "cell_type": "code",
   "execution_count": null,
   "metadata": {},
   "outputs": [],
   "source": [
    "subset = pathway_select['MAPK signaling pathway']\n",
    "adata.uns['gene_subset'] = subset\n",
    "adata_aggr.uns['gene_subset'] = subset+[x+'_u' for x in subset]\n",
    "st.plot_tensor_single(adata, adata_aggr, basis = 'xy_loc', state= 'joint')"
   ]
  },
  {
   "cell_type": "code",
   "execution_count": null,
   "metadata": {},
   "outputs": [],
   "source": [
    "subset = pathway_select['Hippo signaling pathway']\n",
    "adata.uns['gene_subset'] = subset\n",
    "adata_aggr.uns['gene_subset'] = subset+[x+'_u' for x in subset]\n",
    "st.plot_tensor_single(adata, adata_aggr, basis = 'xy_loc', state= 'joint')"
   ]
  }
 ],
 "metadata": {
  "kernelspec": {
   "display_name": "Python 3 (ipykernel)",
   "language": "python",
   "name": "python3"
  },
  "language_info": {
   "codemirror_mode": {
    "name": "ipython",
    "version": 3
   },
   "file_extension": ".py",
   "mimetype": "text/x-python",
   "name": "python",
   "nbconvert_exporter": "python",
   "pygments_lexer": "ipython3",
   "version": "3.7.3"
  }
 },
 "nbformat": 4,
 "nbformat_minor": 4
}
